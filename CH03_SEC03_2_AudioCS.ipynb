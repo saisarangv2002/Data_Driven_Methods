{
 "cells": [
  {
   "cell_type": "code",
   "execution_count": 1,
   "metadata": {},
   "outputs": [],
   "source": [
    "import numpy as np\n",
    "import matplotlib.pyplot as plt\n",
    "import os\n",
    "import sys\n",
    "from scipy.fftpack import dct, idct\n",
    "from scipy.optimize import minimize\n",
    "sys.path.append(os.path.join('..','UTILS'))\n",
    "from cosamp_fn import cosamp\n",
    "# cosamp function is available at https://github.com/avirmaux/CoSaMP\n",
    "# copy function from ipynb into cosamp_fn.py and place in UTILS folder\n",
    "\n",
    "plt.rcParams['figure.figsize'] = [12, 12]\n",
    "plt.rcParams.update({'font.size': 18})"
   ]
  },
  {
   "cell_type": "code",
   "execution_count": 2,
   "metadata": {},
   "outputs": [],
   "source": [
    "## Generate signal, DCT of signal\n",
    "\n",
    "n = 4096 # points in high resolution signal\n",
    "t = np.linspace(0,1,n)\n",
    "x = np.cos(2 * 97 * np.pi * t) + np.cos(2 * 777 * np.pi * t)\n",
    "xt = np.fft.fft(x) # Fourier transformed signal\n",
    "PSD = xt * np.conj(xt) / n # Power spectral density"
   ]
  },
  {
   "cell_type": "code",
   "execution_count": 3,
   "metadata": {},
   "outputs": [],
   "source": [
    "## Randomly sample signal\n",
    "p = 128 # num. random samples, p = n/32\n",
    "perm = np.floor(np.random.rand(p) * n).astype(int)\n",
    "y = x[perm]"
   ]
  },
  {
   "cell_type": "code",
   "execution_count": 7,
   "metadata": {},
   "outputs": [
    {
     "ename": "NameError",
     "evalue": "name 'np' is not defined",
     "output_type": "error",
     "traceback": [
      "\u001b[0;31m---------------------------------------------------------------------------\u001b[0m",
      "\u001b[0;31mNameError\u001b[0m                                 Traceback (most recent call last)",
      "\u001b[0;32m/var/folders/j5/1syl69yx07zcw3xqdkq8mgrm0000gn/T/ipykernel_40496/1457904439.py\u001b[0m in \u001b[0;36m<module>\u001b[0;34m\u001b[0m\n\u001b[1;32m      3\u001b[0m \u001b[0mTheta\u001b[0m \u001b[0;34m=\u001b[0m \u001b[0mPsi\u001b[0m\u001b[0;34m[\u001b[0m\u001b[0mperm\u001b[0m\u001b[0;34m,\u001b[0m\u001b[0;34m:\u001b[0m\u001b[0;34m]\u001b[0m       \u001b[0;31m# Measure rows of Psi\u001b[0m\u001b[0;34m\u001b[0m\u001b[0;34m\u001b[0m\u001b[0m\n\u001b[1;32m      4\u001b[0m \u001b[0;34m\u001b[0m\u001b[0m\n\u001b[0;32m----> 5\u001b[0;31m \u001b[0ms\u001b[0m \u001b[0;34m=\u001b[0m \u001b[0mcosamp\u001b[0m\u001b[0;34m(\u001b[0m\u001b[0mTheta\u001b[0m\u001b[0;34m,\u001b[0m\u001b[0my\u001b[0m\u001b[0;34m,\u001b[0m\u001b[0;36m10\u001b[0m\u001b[0;34m,\u001b[0m\u001b[0mepsilon\u001b[0m\u001b[0;34m=\u001b[0m\u001b[0;36m1.e-10\u001b[0m\u001b[0;34m,\u001b[0m\u001b[0mmax_iter\u001b[0m\u001b[0;34m=\u001b[0m\u001b[0;36m10\u001b[0m\u001b[0;34m)\u001b[0m \u001b[0;31m# CS via matching pursuit\u001b[0m\u001b[0;34m\u001b[0m\u001b[0;34m\u001b[0m\u001b[0m\n\u001b[0m\u001b[1;32m      6\u001b[0m \u001b[0mxrecon\u001b[0m \u001b[0;34m=\u001b[0m \u001b[0midct\u001b[0m\u001b[0;34m(\u001b[0m\u001b[0ms\u001b[0m\u001b[0;34m)\u001b[0m \u001b[0;31m# reconstruct full signal\u001b[0m\u001b[0;34m\u001b[0m\u001b[0;34m\u001b[0m\u001b[0m\n",
      "\u001b[0;32m~/miniforge3/envs/tensorflow/lib/python3.9/site-packages/cosamp_fn.py\u001b[0m in \u001b[0;36mcosamp\u001b[0;34m(phi, u, s, epsilon, max_iter)\u001b[0m\n\u001b[1;32m      7\u001b[0m         \u001b[0;34m-\u001b[0m \u001b[0mu\u001b[0m\u001b[0;34m,\u001b[0m \u001b[0mnoisy\u001b[0m \u001b[0msample\u001b[0m \u001b[0mvector\u001b[0m\u001b[0;34m\u001b[0m\u001b[0;34m\u001b[0m\u001b[0m\n\u001b[1;32m      8\u001b[0m         \u001b[0;34m-\u001b[0m \u001b[0ms\u001b[0m\u001b[0;34m,\u001b[0m \u001b[0msparsity\u001b[0m\u001b[0;34m\u001b[0m\u001b[0;34m\u001b[0m\u001b[0m\n\u001b[0;32m----> 9\u001b[0;31m     \"\"\"\n\u001b[0m\u001b[1;32m     10\u001b[0m     \u001b[0ma\u001b[0m \u001b[0;34m=\u001b[0m \u001b[0mnp\u001b[0m\u001b[0;34m.\u001b[0m\u001b[0mzeros\u001b[0m\u001b[0;34m(\u001b[0m\u001b[0mphi\u001b[0m\u001b[0;34m.\u001b[0m\u001b[0mshape\u001b[0m\u001b[0;34m[\u001b[0m\u001b[0;36m1\u001b[0m\u001b[0;34m]\u001b[0m\u001b[0;34m)\u001b[0m\u001b[0;34m\u001b[0m\u001b[0;34m\u001b[0m\u001b[0m\n\u001b[1;32m     11\u001b[0m     \u001b[0mv\u001b[0m \u001b[0;34m=\u001b[0m \u001b[0mu\u001b[0m\u001b[0;34m\u001b[0m\u001b[0;34m\u001b[0m\u001b[0m\n",
      "\u001b[0;31mNameError\u001b[0m: name 'np' is not defined"
     ]
    }
   ],
   "source": [
    "## Solve compressed sensing problem\n",
    "Psi = dct(np.identity(n)) # Build Psi\n",
    "Theta = Psi[perm,:]       # Measure rows of Psi\n",
    "\n",
    "s = cosamp(Theta,y,10,epsilon=1.e-10,max_iter=10) # CS via matching pursuit\n",
    "xrecon = idct(s) # reconstruct full signal"
   ]
  },
  {
   "cell_type": "code",
   "execution_count": null,
   "metadata": {},
   "outputs": [],
   "source": [
    "## Plot\n",
    "time_window = np.array([1024,1280])/4096\n",
    "freq = np.arange(n)\n",
    "L = int(np.floor(n/2))\n",
    "\n",
    "\n",
    "fig,axs = plt.subplots(2,2)\n",
    "axs = axs.reshape(-1)\n",
    "\n",
    "axs[1].plot(freq[:L],PSD[:L],color='k',linewidth=2)\n",
    "axs[1].set_xlim(0, 1024)\n",
    "axs[1].set_ylim(0, 1200)\n",
    "\n",
    "axs[0].plot(t,x,color='k',linewidth=2)\n",
    "axs[0].plot(perm/n,y,color='r',marker='x',linewidth=0,ms=12,mew=4)\n",
    "axs[0].set_xlim(time_window[0],time_window[1])\n",
    "axs[0].set_ylim(-2, 2)\n",
    "\n",
    "axs[2].plot(t,xrecon,color='r',linewidth=2)\n",
    "axs[2].set_xlim(time_window[0],time_window[1])\n",
    "axs[2].set_ylim(-2, 2)\n",
    "\n",
    "xtrecon = np.fft.fft(xrecon,n) # computes the (fast) discrete fourier transform\n",
    "PSDrecon = xtrecon * np.conj(xtrecon)/n # Power spectrum (how much power in each freq)\n",
    "\n",
    "axs[3].plot(freq[:L],PSDrecon[:L],color='r',linewidth=2)\n",
    "axs[3].set_xlim(0, 1024)\n",
    "axs[3].set_ylim(0, 1200)\n",
    "\n",
    "plt.show()"
   ]
  },
  {
   "cell_type": "code",
   "execution_count": null,
   "metadata": {},
   "outputs": [],
   "source": [
    "## L1-Minimization using SciPy\n",
    "def L1_norm(x):\n",
    "    return np.linalg.norm(x,ord=1)\n",
    "\n",
    "constr = ({'type': 'eq', 'fun': lambda x:  Theta @ x - y})\n",
    "x0 = np.linalg.pinv(Theta) @ y \n",
    "res = minimize(L1_norm, x0, method='SLSQP',constraints=constr)\n",
    "s = res.x"
   ]
  },
  {
   "cell_type": "code",
   "execution_count": null,
   "metadata": {},
   "outputs": [],
   "source": [
    "Theta.shape"
   ]
  },
  {
   "cell_type": "code",
   "execution_count": null,
   "metadata": {},
   "outputs": [],
   "source": [
    "y.shape"
   ]
  },
  {
   "cell_type": "code",
   "execution_count": null,
   "metadata": {},
   "outputs": [],
   "source": []
  }
 ],
 "metadata": {
  "kernelspec": {
   "display_name": "Python 3.9 (tensorflow)",
   "language": "python",
   "name": "tensorflow"
  },
  "language_info": {
   "codemirror_mode": {
    "name": "ipython",
    "version": 3
   },
   "file_extension": ".py",
   "mimetype": "text/x-python",
   "name": "python",
   "nbconvert_exporter": "python",
   "pygments_lexer": "ipython3",
   "version": "3.9.7"
  }
 },
 "nbformat": 4,
 "nbformat_minor": 2
}
