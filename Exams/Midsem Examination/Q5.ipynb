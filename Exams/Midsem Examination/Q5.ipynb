{
 "cells": [
  {
   "cell_type": "markdown",
   "id": "5f5b332e",
   "metadata": {},
   "source": [
    "### A high resolution signal consists of 4096 points out of which 256 measurements are randomly chosen (see Q5xvsy.txt). Using compressed sensing matching pursuit method estimate the dominant signal frequencies, phase-lag, and amplitudes of individual signals which are superimposed."
   ]
  },
  {
   "cell_type": "code",
   "execution_count": 1,
   "id": "c3093d2d",
   "metadata": {},
   "outputs": [],
   "source": [
    "import numpy as np\n",
    "# Modified the text file for easy extraction of data\n",
    "# Open the text file and read its contents\n",
    "with open('Q5xvsy.txt', 'r') as file:\n",
    "    data = file.read()\n",
    "\n",
    "# Remove square brackets and split the data into individual elements\n",
    "data = data.replace('[', '').replace(']', '').split()\n",
    "\n",
    "# Convert the list of strings into a numpy array\n",
    "numpy_array = np.array(data, dtype=float)"
   ]
  },
  {
   "cell_type": "code",
   "execution_count": 2,
   "id": "c7180743",
   "metadata": {},
   "outputs": [],
   "source": [
    "x = numpy_array[0:256]\n",
    "y = numpy_array[256:512]"
   ]
  },
  {
   "cell_type": "code",
   "execution_count": 3,
   "id": "5d5bacdd",
   "metadata": {},
   "outputs": [],
   "source": [
    "import numpy as np\n",
    "import matplotlib.pyplot as plt\n",
    "import os\n",
    "import sys\n",
    "from scipy.fftpack import dct, idct\n",
    "from scipy.optimize import minimize\n",
    "sys.path.append(os.path.join('..','Midsem_2023'))\n",
    "from cosamp_fn import cosamp"
   ]
  },
  {
   "cell_type": "code",
   "execution_count": 4,
   "id": "5596f259",
   "metadata": {},
   "outputs": [],
   "source": [
    "n = 4096 # points in high resolution signal\n",
    "t = np.linspace(0,1,n)"
   ]
  },
  {
   "cell_type": "code",
   "execution_count": 5,
   "id": "a3fef3a9",
   "metadata": {},
   "outputs": [],
   "source": [
    "xnew = x*4096"
   ]
  },
  {
   "cell_type": "code",
   "execution_count": 6,
   "id": "e1252848",
   "metadata": {},
   "outputs": [],
   "source": [
    "np.round(xnew, 0)\n",
    "xnew = np.asarray(xnew, dtype = 'int')"
   ]
  },
  {
   "cell_type": "code",
   "execution_count": 7,
   "id": "6efafabd",
   "metadata": {},
   "outputs": [],
   "source": [
    "Psi = dct(np.identity(n)) # Build Psi\n",
    "Theta = Psi[xnew,:]       # Measure rows of Psi"
   ]
  },
  {
   "cell_type": "code",
   "execution_count": 8,
   "id": "04073bfa",
   "metadata": {},
   "outputs": [],
   "source": [
    "def cosamp(phi, u, s, epsilon=1e-10, max_iter=1000):\n",
    "    \"\"\"\n",
    "    Return an `s`-sparse approximation of the target signal\n",
    "    Input:\n",
    "        - phi, sampling matrix\n",
    "        - u, noisy sample vector\n",
    "        - s, sparsity\n",
    "    \"\"\"\n",
    "    a = np.zeros(phi.shape[1])\n",
    "    v = u\n",
    "    it = 0 # count\n",
    "    halt = False\n",
    "    while not halt:\n",
    "        it += 1\n",
    "        print(\"Iteration {}\\r\".format(it), end=\"\")\n",
    "        \n",
    "        y = np.dot(np.transpose(phi), v)\n",
    "        omega = np.argsort(y)[-(2*s):] # large components\n",
    "        omega = np.union1d(omega, a.nonzero()[0]) # use set instead?\n",
    "        phiT = phi[:, omega]\n",
    "        b = np.zeros(phi.shape[1])\n",
    "        # Solve Least Square\n",
    "        b[omega], _, _, _ = np.linalg.lstsq(phiT, u)\n",
    "        \n",
    "        # Get new estimate\n",
    "        b[np.argsort(b)[:-s]] = 0\n",
    "        a = b\n",
    "        \n",
    "        # Halt criterion\n",
    "        v_old = v\n",
    "        v = u - np.dot(phi, a)\n",
    "\n",
    "        halt = (np.linalg.norm(v - v_old) < epsilon) or \\\n",
    "            np.linalg.norm(v) < epsilon or \\\n",
    "            it > max_iter\n",
    "        \n",
    "    return a"
   ]
  },
  {
   "cell_type": "code",
   "execution_count": 9,
   "id": "96560d17",
   "metadata": {},
   "outputs": [
    {
     "name": "stdout",
     "output_type": "stream",
     "text": [
      "Iteration 1\r",
      "Iteration 2\r",
      "Iteration 3\r",
      "Iteration 4\r",
      "Iteration 5\r",
      "Iteration 6\r",
      "Iteration 7\r"
     ]
    },
    {
     "name": "stderr",
     "output_type": "stream",
     "text": [
      "/var/folders/j5/1syl69yx07zcw3xqdkq8mgrm0000gn/T/ipykernel_37239/1979200982.py:23: FutureWarning: `rcond` parameter will change to the default of machine precision times ``max(M, N)`` where M and N are the input matrix dimensions.\n",
      "To use the future default and silence this warning we advise to pass `rcond=None`, to keep using the old, explicitly pass `rcond=-1`.\n",
      "  b[omega], _, _, _ = np.linalg.lstsq(phiT, u)\n"
     ]
    }
   ],
   "source": [
    "s = cosamp(Theta,y,10,epsilon=1.e-10,max_iter=10) # CS via matching pursuit\n",
    "xrecon = idct(s) # reconstruct full signal"
   ]
  },
  {
   "cell_type": "code",
   "execution_count": 10,
   "id": "986f5728",
   "metadata": {},
   "outputs": [
    {
     "name": "stdout",
     "output_type": "stream",
     "text": [
      "(4096,)\n"
     ]
    }
   ],
   "source": [
    "print(np.shape(xrecon))"
   ]
  },
  {
   "cell_type": "code",
   "execution_count": 11,
   "id": "3762b999",
   "metadata": {},
   "outputs": [
    {
     "data": {
      "image/png": "[encoded data removed]",
      "text/plain": [
       "<Figure size 432x288 with 1 Axes>"
      ]
     },
     "metadata": {
      "needs_background": "light"
     },
     "output_type": "display_data"
    }
   ],
   "source": [
    "plt.plot(xrecon)\n",
    "plt.show()"
   ]
  },
  {
   "cell_type": "markdown",
   "id": "e8ed3fc4",
   "metadata": {},
   "source": [
    "## Applying FFT to determine the dominant frequencies"
   ]
  },
  {
   "cell_type": "code",
   "execution_count": 62,
   "id": "e537b21c",
   "metadata": {},
   "outputs": [],
   "source": [
    "n = len(xrecon)\n",
    "fhat = np.fft.fft(xrecon,n)                     # Compute the FFT\n",
    "PSD = fhat * np.conj(fhat) / n             # Power spectrum (power per freq)\n",
    "L = np.arange(1,np.floor(n/8),dtype='int') # Only plot the first half of freqs"
   ]
  },
  {
   "cell_type": "code",
   "execution_count": 48,
   "id": "3bd0e675",
   "metadata": {},
   "outputs": [
    {
     "name": "stderr",
     "output_type": "stream",
     "text": [
      "/Users/venkatasaisarangrandhe/miniforge3/envs/tensorflow/lib/python3.9/site-packages/numpy/core/_asarray.py:83: ComplexWarning: Casting complex values to real discards the imaginary part\n",
      "  return array(a, dtype, copy=False, order=order)\n"
     ]
    },
    {
     "data": {
      "image/png": "[encoded data removed]",
      "text/plain": [
       "<Figure size 432x288 with 1 Axes>"
      ]
     },
     "metadata": {
      "needs_background": "light"
     },
     "output_type": "display_data"
    }
   ],
   "source": [
    "freq = (1/(1/4096*n)) * np.arange(n) \n",
    "plt.plot(freq[L], PSD[L])\n",
    "plt.show()"
   ]
  },
  {
   "cell_type": "code",
   "execution_count": 49,
   "id": "7bf5a157",
   "metadata": {},
   "outputs": [],
   "source": [
    "k = PSD[L]>600"
   ]
  },
  {
   "cell_type": "code",
   "execution_count": 50,
   "id": "2244e7d5",
   "metadata": {},
   "outputs": [],
   "source": [
    "ans = k*PSD[L]"
   ]
  },
  {
   "cell_type": "code",
   "execution_count": 51,
   "id": "7b1fa819",
   "metadata": {},
   "outputs": [
    {
     "data": {
      "text/plain": [
       "(767.5582687574425+0j)"
      ]
     },
     "execution_count": 51,
     "metadata": {},
     "output_type": "execute_result"
    }
   ],
   "source": [
    "np.sum(ans)"
   ]
  },
  {
   "cell_type": "code",
   "execution_count": 52,
   "id": "b5e155bf",
   "metadata": {},
   "outputs": [
    {
     "name": "stdout",
     "output_type": "stream",
     "text": [
      "(174.4003492466877+0j)\n"
     ]
    }
   ],
   "source": [
    "k=PSD[0:250]>150\n",
    "ans = k*PSD[0:250]\n",
    "print(np.sum(ans))"
   ]
  },
  {
   "cell_type": "code",
   "execution_count": 53,
   "id": "38331b2a",
   "metadata": {},
   "outputs": [
    {
     "name": "stdout",
     "output_type": "stream",
     "text": [
      "(array([ 350, 3746]),)\n"
     ]
    }
   ],
   "source": [
    "itemindex = np.where(PSD == 767.5582687574425+0j)\n",
    "print(itemindex)"
   ]
  },
  {
   "cell_type": "code",
   "execution_count": 54,
   "id": "07df5404",
   "metadata": {},
   "outputs": [
    {
     "name": "stdout",
     "output_type": "stream",
     "text": [
      "(array([  50, 4046]),)\n"
     ]
    }
   ],
   "source": [
    "itemindex = np.where(PSD == 174.4003492466877+0j)\n",
    "print(itemindex)"
   ]
  },
  {
   "cell_type": "markdown",
   "id": "48cc8bbe",
   "metadata": {},
   "source": [
    "### Therefore the dominant frequencies are 50 and 350. "
   ]
  },
  {
   "cell_type": "markdown",
   "id": "5529ae1b",
   "metadata": {},
   "source": [
    "For Frequency 350"
   ]
  },
  {
   "cell_type": "code",
   "execution_count": 55,
   "id": "207ee4ac",
   "metadata": {},
   "outputs": [],
   "source": [
    "indices = PSD > 700       # Find all freqs with large power\n",
    "PSDclean = PSD * indices  # Zero out all others\n",
    "fhat = indices * fhat     # Zero out small Fourier coeffs. in Y\n",
    "ffilt = np.fft.ifft(fhat) # Inverse FFT for filtered time signal"
   ]
  },
  {
   "cell_type": "code",
   "execution_count": 56,
   "id": "781d5538",
   "metadata": {},
   "outputs": [
    {
     "name": "stderr",
     "output_type": "stream",
     "text": [
      "/Users/venkatasaisarangrandhe/miniforge3/envs/tensorflow/lib/python3.9/site-packages/numpy/core/_asarray.py:83: ComplexWarning: Casting complex values to real discards the imaginary part\n",
      "  return array(a, dtype, copy=False, order=order)\n"
     ]
    },
    {
     "data": {
      "image/png": "[encoded data removed]",
      "text/plain": [
       "<Figure size 432x288 with 1 Axes>"
      ]
     },
     "metadata": {
      "needs_background": "light"
     },
     "output_type": "display_data"
    }
   ],
   "source": [
    "plt.plot(ffilt[L])\n",
    "plt.show()"
   ]
  },
  {
   "cell_type": "code",
   "execution_count": 57,
   "id": "de228879",
   "metadata": {
    "scrolled": true
   },
   "outputs": [
    {
     "data": {
      "text/plain": [
       "(0.8657758361880389+0j)"
      ]
     },
     "execution_count": 57,
     "metadata": {},
     "output_type": "execute_result"
    }
   ],
   "source": [
    "np.max(ffilt) "
   ]
  },
  {
   "cell_type": "markdown",
   "id": "f83da0aa",
   "metadata": {},
   "source": [
    "For Frequency 50"
   ]
  },
  {
   "cell_type": "code",
   "execution_count": 64,
   "id": "d690f565",
   "metadata": {},
   "outputs": [],
   "source": [
    "# indices = PSD > 100      # Find all freqs with large power\n",
    "# indice = PSD < 500\n",
    "PSDclean = np.zeros(4096, dtype = 'complex')\n",
    "PSDclean[50]= 174.4003492466877+0j\n",
    "# PSDclean = PSD * indices*indice  # Zero out all others\n",
    "fhat = indices * fhat     # Zero out small Fourier coeffs. in Y\n",
    "ffilt = np.fft.ifft(fhat) # Inverse FFT for filtered time signal"
   ]
  },
  {
   "cell_type": "code",
   "execution_count": 65,
   "id": "b10e6f75",
   "metadata": {},
   "outputs": [
    {
     "name": "stdout",
     "output_type": "stream",
     "text": [
      "[False False False ... False False False]\n"
     ]
    }
   ],
   "source": [
    "print(indices)"
   ]
  },
  {
   "cell_type": "code",
   "execution_count": 66,
   "id": "62eab81a",
   "metadata": {},
   "outputs": [
    {
     "name": "stdout",
     "output_type": "stream",
     "text": [
      "[0.79817696+0.j 0.51433664+0.j 0.08576386+0.j ... 0.30329125+0.j\n",
      " 0.67537645+0.j 0.85741318+0.j]\n"
     ]
    }
   ],
   "source": [
    "print(ffilt)"
   ]
  },
  {
   "cell_type": "code",
   "execution_count": 67,
   "id": "ffa885d3",
   "metadata": {},
   "outputs": [
    {
     "name": "stderr",
     "output_type": "stream",
     "text": [
      "/Users/venkatasaisarangrandhe/miniforge3/envs/tensorflow/lib/python3.9/site-packages/numpy/core/_asarray.py:83: ComplexWarning: Casting complex values to real discards the imaginary part\n",
      "  return array(a, dtype, copy=False, order=order)\n"
     ]
    },
    {
     "data": {
      "image/png": "[encoded data removed]",
      "text/plain": [
       "<Figure size 432x288 with 1 Axes>"
      ]
     },
     "metadata": {
      "needs_background": "light"
     },
     "output_type": "display_data"
    }
   ],
   "source": [
    "plt.plot(ffilt[L])\n",
    "plt.show()"
   ]
  },
  {
   "cell_type": "code",
   "execution_count": 68,
   "id": "a118f0d0",
   "metadata": {},
   "outputs": [
    {
     "data": {
      "text/plain": [
       "(0.8657758361880389+0j)"
      ]
     },
     "execution_count": 68,
     "metadata": {},
     "output_type": "execute_result"
    }
   ],
   "source": [
    "np.max(ffilt) "
   ]
  },
  {
   "cell_type": "markdown",
   "id": "9a18920f",
   "metadata": {},
   "source": [
    "0.8657758361880389+0j is the amplitude of both the frequency signals"
   ]
  }
 ],
 "metadata": {
  "kernelspec": {
   "display_name": "Python 3.9 (tensorflow)",
   "language": "python",
   "name": "tensorflow"
  },
  "language_info": {
   "codemirror_mode": {
    "name": "ipython",
    "version": 3
   },
   "file_extension": ".py",
   "mimetype": "text/x-python",
   "name": "python",
   "nbconvert_exporter": "python",
   "pygments_lexer": "ipython3",
   "version": "3.9.7"
  }
 },
 "nbformat": 4,
 "nbformat_minor": 5
}
