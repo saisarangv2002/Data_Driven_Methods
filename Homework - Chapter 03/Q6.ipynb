{
 "cells": [
  {
   "cell_type": "markdown",
   "metadata": {},
   "source": [
    "# This exercise will explore sparse representation from Section 3.6 to estimate a fluid flow field, following Callaham et al. [147]. Load the cylin- der flow data set. Coarsen each flow field by a factor of 20 in each direction using imresize, and build a library of these coarsened measurements (i.e., a matrix, where each column contains these downsampled measurements). Plot a movie of the flow field in these new coordinates. Now, pick a column of the full flow field matrix and add Gaussian random noise to this field. Downsam- ple the noisy field by a factor of 20 and use SRC to find the closest downsam- pled library element. Then use this column of the full flow field library as your reconstructed estimate.\n",
    "# Try this approach with different levels of noise added to the original flow field. See how much noise is required before the method breaks. Try different ap- proaches to creating a low-dimensional representation of the image (i.e., in- stead of downsampling, you can measure the flow field in a small 5 × 10 patch and use this as the low-dimensional feature for SRC)."
   ]
  },
  {
   "cell_type": "code",
   "execution_count": 2,
   "metadata": {},
   "outputs": [
    {
     "ename": "error",
     "evalue": "OpenCV(4.8.1) :-1: error: (-5:Bad argument) in function 'resize'\n> Overload resolution failed:\n>  - src is not a numpy array, neither a scalar\n>  - Expected Ptr<cv::UMat> for argument 'src'\n",
     "output_type": "error",
     "traceback": [
      "\u001b[0;31m---------------------------------------------------------------------------\u001b[0m",
      "\u001b[0;31merror\u001b[0m                                     Traceback (most recent call last)",
      "Cell \u001b[0;32mIn[2], line 11\u001b[0m\n\u001b[1;32m      8\u001b[0m flow_data \u001b[39m=\u001b[39m scipy\u001b[39m.\u001b[39mio\u001b[39m.\u001b[39mloadmat(\u001b[39m'\u001b[39m\u001b[39m/Users/bhaskarspc/DATA_SVD_Assignment/FLUIDS/CYLINDER_ALL.mat\u001b[39m\u001b[39m'\u001b[39m)\n\u001b[1;32m     10\u001b[0m \u001b[39m# Coarsen the flow field by a factor of 20 in each direction using imresize\u001b[39;00m\n\u001b[0;32m---> 11\u001b[0m coarsened_flow \u001b[39m=\u001b[39m cv2\u001b[39m.\u001b[39;49mresize(flow_data, \u001b[39mNone\u001b[39;49;00m, fx\u001b[39m=\u001b[39;49m\u001b[39m1\u001b[39;49m\u001b[39m/\u001b[39;49m\u001b[39m20\u001b[39;49m, fy\u001b[39m=\u001b[39;49m\u001b[39m1\u001b[39;49m\u001b[39m/\u001b[39;49m\u001b[39m20\u001b[39;49m, interpolation\u001b[39m=\u001b[39;49mcv2\u001b[39m.\u001b[39;49mINTER_AREA)\n\u001b[1;32m     13\u001b[0m \u001b[39m# Build a library of coarsened measurements\u001b[39;00m\n\u001b[1;32m     14\u001b[0m library \u001b[39m=\u001b[39m coarsened_flow\u001b[39m.\u001b[39mreshape(\u001b[39m-\u001b[39m\u001b[39m1\u001b[39m, coarsened_flow\u001b[39m.\u001b[39mshape[\u001b[39m2\u001b[39m])\u001b[39m.\u001b[39mT  \u001b[39m# Each column contains a coarsened measurement\u001b[39;00m\n",
      "\u001b[0;31merror\u001b[0m: OpenCV(4.8.1) :-1: error: (-5:Bad argument) in function 'resize'\n> Overload resolution failed:\n>  - src is not a numpy array, neither a scalar\n>  - Expected Ptr<cv::UMat> for argument 'src'\n"
     ]
    }
   ],
   "source": [
    "import numpy as np\n",
    "import cv2\n",
    "from sklearn.linear_model import OrthogonalMatchingPursuit\n",
    "import matplotlib.pyplot as plt\n",
    "import scipy.io\n",
    "\n",
    "# Load the cylinder flow data set (replace 'flow_data.npy' with your data file)\n",
    "flow_data = scipy.io.loadmat('/Users/bhaskarspc/DATA_SVD_Assignment/FLUIDS/CYLINDER_ALL.mat')\n",
    "\n",
    "# Coarsen the flow field by a factor of 20 in each direction using imresize\n",
    "coarsened_flow = cv2.resize(flow_data, None, fx=1/20, fy=1/20, interpolation=cv2.INTER_AREA)\n",
    "\n",
    "# Build a library of coarsened measurements\n",
    "library = coarsened_flow.reshape(-1, coarsened_flow.shape[2]).T  # Each column contains a coarsened measurement\n",
    "\n",
    "\n"
   ]
  },
  {
   "cell_type": "code",
   "execution_count": 8,
   "metadata": {},
   "outputs": [
    {
     "ename": "RuntimeError",
     "evalue": "sequence argument must have length equal to input rank",
     "output_type": "error",
     "traceback": [
      "\u001b[0;31m---------------------------------------------------------------------------\u001b[0m",
      "\u001b[0;31mRuntimeError\u001b[0m                              Traceback (most recent call last)",
      "Cell \u001b[0;32mIn[8], line 18\u001b[0m\n\u001b[1;32m     16\u001b[0m \u001b[39m# Coarsen each flow field by a factor of 20 in each direction using imresize\u001b[39;00m\n\u001b[1;32m     17\u001b[0m coarsened_factor \u001b[39m=\u001b[39m \u001b[39m20\u001b[39m\n\u001b[0;32m---> 18\u001b[0m coarsened_flow \u001b[39m=\u001b[39m zoom(flow_field, (\u001b[39m1\u001b[39;49m \u001b[39m/\u001b[39;49m coarsened_factor, \u001b[39m1\u001b[39;49m \u001b[39m/\u001b[39;49m coarsened_factor, \u001b[39m1\u001b[39;49m), order\u001b[39m=\u001b[39;49m\u001b[39m1\u001b[39;49m)\n\u001b[1;32m     20\u001b[0m \u001b[39m# Build a library of these coarsened measurements\u001b[39;00m\n\u001b[1;32m     21\u001b[0m \u001b[39m# Each column contains one coarsened flow field\u001b[39;00m\n\u001b[1;32m     22\u001b[0m library \u001b[39m=\u001b[39m coarsened_flow\u001b[39m.\u001b[39mreshape(\u001b[39m-\u001b[39m\u001b[39m1\u001b[39m, coarsened_flow\u001b[39m.\u001b[39mshape[\u001b[39m-\u001b[39m\u001b[39m1\u001b[39m])\u001b[39m.\u001b[39mT\n",
      "File \u001b[0;32m~/Library/Python/3.9/lib/python/site-packages/scipy/ndimage/_interpolation.py:770\u001b[0m, in \u001b[0;36mzoom\u001b[0;34m(input, zoom, output, order, mode, cval, prefilter, grid_mode)\u001b[0m\n\u001b[1;32m    768\u001b[0m \u001b[39mif\u001b[39;00m \u001b[39minput\u001b[39m\u001b[39m.\u001b[39mndim \u001b[39m<\u001b[39m \u001b[39m1\u001b[39m:\n\u001b[1;32m    769\u001b[0m     \u001b[39mraise\u001b[39;00m \u001b[39mRuntimeError\u001b[39;00m(\u001b[39m'\u001b[39m\u001b[39minput and output rank must be > 0\u001b[39m\u001b[39m'\u001b[39m)\n\u001b[0;32m--> 770\u001b[0m zoom \u001b[39m=\u001b[39m _ni_support\u001b[39m.\u001b[39;49m_normalize_sequence(zoom, \u001b[39minput\u001b[39;49m\u001b[39m.\u001b[39;49mndim)\n\u001b[1;32m    771\u001b[0m output_shape \u001b[39m=\u001b[39m \u001b[39mtuple\u001b[39m(\n\u001b[1;32m    772\u001b[0m         [\u001b[39mint\u001b[39m(\u001b[39mround\u001b[39m(ii \u001b[39m*\u001b[39m jj)) \u001b[39mfor\u001b[39;00m ii, jj \u001b[39min\u001b[39;00m \u001b[39mzip\u001b[39m(\u001b[39minput\u001b[39m\u001b[39m.\u001b[39mshape, zoom)])\n\u001b[1;32m    773\u001b[0m complex_output \u001b[39m=\u001b[39m numpy\u001b[39m.\u001b[39miscomplexobj(\u001b[39minput\u001b[39m)\n",
      "File \u001b[0;32m~/Library/Python/3.9/lib/python/site-packages/scipy/ndimage/_ni_support.py:68\u001b[0m, in \u001b[0;36m_normalize_sequence\u001b[0;34m(input, rank)\u001b[0m\n\u001b[1;32m     66\u001b[0m     \u001b[39mif\u001b[39;00m \u001b[39mlen\u001b[39m(normalized) \u001b[39m!=\u001b[39m rank:\n\u001b[1;32m     67\u001b[0m         err \u001b[39m=\u001b[39m \u001b[39m\"\u001b[39m\u001b[39msequence argument must have length equal to input rank\u001b[39m\u001b[39m\"\u001b[39m\n\u001b[0;32m---> 68\u001b[0m         \u001b[39mraise\u001b[39;00m \u001b[39mRuntimeError\u001b[39;00m(err)\n\u001b[1;32m     69\u001b[0m \u001b[39melse\u001b[39;00m:\n\u001b[1;32m     70\u001b[0m     normalized \u001b[39m=\u001b[39m [\u001b[39minput\u001b[39m] \u001b[39m*\u001b[39m rank\n",
      "\u001b[0;31mRuntimeError\u001b[0m: sequence argument must have length equal to input rank"
     ]
    }
   ],
   "source": [
    "import numpy as np\n",
    "import matplotlib.pyplot as plt\n",
    "from scipy.ndimage import zoom\n",
    "from sklearn.linear_model import OrthogonalMatchingPursuit\n",
    "import imageio\n",
    "\n",
    "# Load the cylinder flow dataset (you need to replace this with your dataset loading code)\n",
    "data = scipy.io.loadmat('/Users/bhaskarspc/DATA_SVD_Assignment/FLUIDS/CYLINDER_ALL.mat')\n",
    "\n",
    "flow_field = data['UALL']\n",
    "\n",
    "# Ensure the input array has at least one dimension\n",
    "if flow_field.ndim == 0:\n",
    "    flow_field = flow_field[None]\n",
    "\n",
    "# Coarsen each flow field by a factor of 20 in each direction using imresize\n",
    "coarsened_factor = 20\n",
    "coarsened_flow = zoom(flow_field, (1 / coarsened_factor, 1 / coarsened_factor, 1), order=1)\n",
    "\n",
    "# Build a library of these coarsened measurements\n",
    "# Each column contains one coarsened flow field\n",
    "library = coarsened_flow.reshape(-1, coarsened_flow.shape[-1]).T\n",
    "\n",
    "# Plot a movie of the flow field in these new coordinates\n",
    "def plot_flow_movie(flow_data, title=\"Flow Field Movie\"):\n",
    "    fig, ax = plt.subplots()\n",
    "    ims = []\n",
    "    for frame in range(flow_data.shape[-1]):\n",
    "        im = ax.imshow(flow_data[:, :, frame], animated=True)\n",
    "        ims.append([im])\n",
    "    ani = imageio.mimwrite(\"flow_field_movie.gif\", ims, duration=0.1)\n",
    "    plt.show()\n",
    "\n",
    "# plot_flow_movie(coarsened_flow, \"Coarsened Flow Field Movie\")\n",
    "\n",
    "# Function to add Gaussian noise to a column of the full flow field matrix\n",
    "def add_gaussian_noise(data, column_idx, std_dev):\n",
    "    noisy_data = data.copy()\n",
    "    noisy_data[:, column_idx] += np.random.normal(0, std_dev, data.shape[0])\n",
    "    return noisy_data\n",
    "\n",
    "# Downsample the noisy field by a factor of 20\n",
    "def downsample_flow(noisy_data, factor):\n",
    "    return noisy_data[::factor, ::factor]\n",
    "\n",
    "# Use Sparse Representation (SRC) to find the closest downsampled library element\n",
    "def sparse_representation_reconstruction(library, noisy_column):\n",
    "    omp = OrthogonalMatchingPursuit(n_nonzero_coefs=1)\n",
    "    omp.fit(library, noisy_column)\n",
    "    sparse_coefs = omp.coef_\n",
    "    # Find the index of the best-matching library element\n",
    "    best_match_index = np.argmax(sparse_coefs)\n",
    "    return library[:, best_match_index]\n",
    "\n",
    "# Perform SRC with different levels of noise\n",
    "noise_levels = [0.01, 0.05, 0.1, 0.2]  # Adjust noise levels as needed\n",
    "\n",
    "for noise_level in noise_levels:\n",
    "    noisy_column = add_gaussian_noise(flow_field, selected_column_index, noise_level)\n",
    "    downsampled_noisy_column = downsample_flow(noisy_column, coarsened_factor)\n",
    "    reconstructed_column = sparse_representation_reconstruction(library, downsampled_noisy_column)\n",
    "    \n",
    "    # Visualize the results or compute error metrics as needed\n",
    "    # You can calculate metrics like PSNR, SSIM, or other relevant measures to evaluate the reconstruction quality.\n"
   ]
  },
  {
   "cell_type": "code",
   "execution_count": null,
   "metadata": {},
   "outputs": [],
   "source": [
    "import matplotlib.pyplot as plt\n",
    "import matplotlib.animation as animation\n",
    "\n",
    "# Function to create a movie of the flow field\n",
    "def create_flow_movie(flow_data, output_file, title=\"Flow Field Movie\"):\n",
    "    fig, ax = plt.subplots()\n",
    "    ims = []\n",
    "    for frame in range(flow_data.shape[-1]):\n",
    "        im = ax.imshow(flow_data[:, :, frame], animated=True)\n",
    "        ims.append([im])\n",
    "    ani = animation.ArtistAnimation(fig, ims, blit=True, interval=100)\n",
    "    ani.save(output_file, writer=\"imagemagick\", fps=10)\n",
    "\n",
    "# Create a movie of the flow field in the new coordinates\n",
    "create_flow_movie(coarsened_flow, \"flow_field_movie.gif\", \"Coarsened Flow Field Movie\")\n",
    "\n",
    "# You can also display individual frames of the flow field\n",
    "def display_frame(frame_data):\n",
    "    plt.imshow(frame_data, cmap='viridis')\n",
    "    plt.show()\n",
    "\n",
    "# Display a specific frame (e.g., frame 0)\n",
    "display_frame(coarsened_flow[:, :, 0])"
   ]
  }
 ],
 "metadata": {
  "kernelspec": {
   "display_name": "Python 3",
   "language": "python",
   "name": "python3"
  },
  "language_info": {
   "codemirror_mode": {
    "name": "ipython",
    "version": 3
   },
   "file_extension": ".py",
   "mimetype": "text/x-python",
   "name": "python",
   "nbconvert_exporter": "python",
   "pygments_lexer": "ipython3",
   "version": "3.9.6"
  },
  "orig_nbformat": 4
 },
 "nbformat": 4,
 "nbformat_minor": 2
}
