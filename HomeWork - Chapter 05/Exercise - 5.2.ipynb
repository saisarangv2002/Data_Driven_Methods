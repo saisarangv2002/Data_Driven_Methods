{
 "cells": [
  {
   "cell_type": "markdown",
   "id": "ba83d809",
   "metadata": {},
   "source": [
    "The Yale Dataset is not avaiable from the Yale University's website. So, I was not able to do this question. This is the case with the total class. "
   ]
  },
  {
   "cell_type": "code",
   "execution_count": null,
   "id": "567b8157",
   "metadata": {},
   "outputs": [],
   "source": []
  }
 ],
 "metadata": {
  "kernelspec": {
   "display_name": "Python 3.9 (tensorflow)",
   "language": "python",
   "name": "tensorflow"
  },
  "language_info": {
   "codemirror_mode": {
    "name": "ipython",
    "version": 3
   },
   "file_extension": ".py",
   "mimetype": "text/x-python",
   "name": "python",
   "nbconvert_exporter": "python",
   "pygments_lexer": "ipython3",
   "version": "3.9.7"
  }
 },
 "nbformat": 4,
 "nbformat_minor": 5
}
