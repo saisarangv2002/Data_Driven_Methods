{
 "cells": [
  {
   "cell_type": "code",
   "execution_count": 1,
   "id": "346412a6",
   "metadata": {},
   "outputs": [],
   "source": [
    "import numpy as np\n",
    "from scipy import linalg\n",
    "import matplotlib.pyplot as plt"
   ]
  },
  {
   "cell_type": "code",
   "execution_count": 3,
   "id": "42c7cf31",
   "metadata": {},
   "outputs": [
    {
     "name": "stdout",
     "output_type": "stream",
     "text": [
      "[[1 2 3]\n",
      " [4 5 6]]\n"
     ]
    }
   ],
   "source": [
    "#Ex 1\n",
    "A = np.array([[1,2,3],[4,5,6]])\n",
    "print(A)"
   ]
  },
  {
   "cell_type": "code",
   "execution_count": 6,
   "id": "c0f41426",
   "metadata": {},
   "outputs": [
    {
     "name": "stdout",
     "output_type": "stream",
     "text": [
      "[[ 1  9  2  1  1]\n",
      " [10  1  2  1  2]\n",
      " [ 1  0  5  1  1]\n",
      " [ 2  1  1  2  9]\n",
      " [ 2  1  2 13  2]]\n",
      "(5, 5)\n",
      "[9 1 0 1 1]\n"
     ]
    }
   ],
   "source": [
    "#Ex 2\n",
    "A = np.array([[1,9,2,1,1],\n",
    "             [10,1,2,1,2],\n",
    "             [1,0,5,1,1],\n",
    "             [2,1,1,2,9],\n",
    "             [2,1,2,13,2]])\n",
    "print(A)\n",
    "print(A.shape)\n",
    "print(A[:,1])"
   ]
  },
  {
   "cell_type": "code",
   "execution_count": 7,
   "id": "f6714714",
   "metadata": {},
   "outputs": [
    {
     "name": "stdout",
     "output_type": "stream",
     "text": [
      "[10 20 30 40 50 60]\n",
      "[[10 20 30]\n",
      " [40 50 60]]\n"
     ]
    }
   ],
   "source": [
    "#Ex 3\n",
    "b = np.array([10,20,30,40,50,60])\n",
    "print(b)\n",
    "b=b.reshape((2,3))\n",
    "print(b)"
   ]
  },
  {
   "cell_type": "code",
   "execution_count": 10,
   "id": "1ca7a7a7",
   "metadata": {},
   "outputs": [],
   "source": [
    "#Ex 4\n",
    "A = np.array([[1,0],[0,1]])\n",
    "A_inv = linalg.inv(A)\n",
    "b = np.array([170,180]).reshape((2,1))"
   ]
  },
  {
   "cell_type": "code",
   "execution_count": 13,
   "id": "480c941c",
   "metadata": {},
   "outputs": [
    {
     "name": "stdout",
     "output_type": "stream",
     "text": [
      "[[170.]\n",
      " [180.]]\n"
     ]
    }
   ],
   "source": [
    "x = A_inv@b\n",
    "print(x)"
   ]
  },
  {
   "cell_type": "code",
   "execution_count": 14,
   "id": "1c6edec7",
   "metadata": {},
   "outputs": [
    {
     "name": "stdout",
     "output_type": "stream",
     "text": [
      "44243.99999999999\n",
      "[[-0.00976404  0.1086249  -0.03498779 -0.0187144  -0.00203417]\n",
      " [ 0.11282886 -0.00522105 -0.04014104 -0.00596691 -0.00427177]\n",
      " [ 0.00515324 -0.01566314  0.21291023 -0.01790073 -0.0128153 ]\n",
      " [-0.00650936 -0.01091673 -0.0233252  -0.01247627  0.08197722]\n",
      " [-0.00949281 -0.01939246 -0.00623813  0.12069433 -0.01586656]]\n",
      "[[-2.20686100e-07  2.45513286e-06 -7.90791858e-07 -4.22981691e-07\n",
      "  -4.59762708e-08]\n",
      " [ 2.55015049e-06 -1.18005762e-07 -9.07265077e-07 -1.34863728e-07\n",
      "  -9.65501687e-08]\n",
      " [ 1.16473219e-07 -3.54017285e-07  4.81218301e-06 -4.04591183e-07\n",
      "  -2.89650506e-07]\n",
      " [-1.47124067e-07 -2.46739320e-07 -5.27194572e-07 -2.81987794e-07\n",
      "   1.85284371e-06]\n",
      " [-2.14555930e-07 -4.38307115e-07 -1.40993897e-07  2.72792540e-06\n",
      "  -3.58614912e-07]]\n"
     ]
    }
   ],
   "source": [
    "#Ex 5\n",
    "A = np.array([[1,9,2,1,1],\n",
    "             [10,1,2,1,2],\n",
    "             [1,0,5,1,1],\n",
    "             [2,1,1,2,9],\n",
    "             [2,1,2,13,2]])\n",
    "detA = linalg.det(A)\n",
    "print(detA)\n",
    "A_inv = linalg.inv(A)\n",
    "print(A_inv)\n",
    "B = (1/detA)*A_inv\n",
    "print(B)"
   ]
  },
  {
   "cell_type": "code",
   "execution_count": 20,
   "id": "53491fca",
   "metadata": {},
   "outputs": [
    {
     "name": "stdout",
     "output_type": "stream",
     "text": [
      "[[11.57142857]\n",
      " [ 6.39285714]\n",
      " [-3.96428571]]\n"
     ]
    }
   ],
   "source": [
    "#Ex 6 Least Squares\n",
    "A = np.array([[1,2,4],\n",
    "             [1,2,4],\n",
    "             [1,1,1]])\n",
    "b = np.array([5,12,14]).reshape((3,1))\n",
    "p, *_ = linalg.lstsq(A,b)\n",
    "print(p)\n"
   ]
  },
  {
   "cell_type": "code",
   "execution_count": 21,
   "id": "7a4144bd",
   "metadata": {},
   "outputs": [
    {
     "data": {
      "text/plain": [
       "[<matplotlib.lines.Line2D at 0x10ebbb670>]"
      ]
     },
     "execution_count": 21,
     "metadata": {},
     "output_type": "execute_result"
    },
    {
     "data": {
      "image/png": "[encoded data removed]",
      "text/plain": [
       "<Figure size 432x288 with 1 Axes>"
      ]
     },
     "metadata": {
      "needs_background": "light"
     },
     "output_type": "display_data"
    }
   ],
   "source": [
    "#Ex 7 : Plotting\n",
    "x = np.linspace(0,3,1000)\n",
    "y = p[0]+ p[1]*x + p[2]*x**2\n",
    "\n",
    "plt.plot(x,y,\"k--\")\n"
   ]
  },
  {
   "cell_type": "code",
   "execution_count": 23,
   "id": "cc4bfdaa",
   "metadata": {},
   "outputs": [
    {
     "name": "stdout",
     "output_type": "stream",
     "text": [
      "[[-6.87691081e-01 -1.64562988e-01 -7.07106781e-01]\n",
      " [-6.87691081e-01 -1.64562988e-01  7.07106781e-01]\n",
      " [-2.32727210e-01  9.72542053e-01  5.66284863e-16]]\n",
      "[6.66100051e+00 7.94400574e-01 1.12021321e-16]\n",
      "[[-0.2414216  -0.44790441 -0.86087005]\n",
      " [ 0.80993909  0.39563176 -0.43298289]\n",
      " [ 0.53452248 -0.80178373  0.26726124]]\n"
     ]
    }
   ],
   "source": [
    "#Performing SVD\n",
    "U, D, VT = np.linalg.svd(A)\n",
    "print(U)\n",
    "print(D)\n",
    "print(VT)"
   ]
  },
  {
   "cell_type": "code",
   "execution_count": 24,
   "id": "33eb4a83",
   "metadata": {},
   "outputs": [
    {
     "name": "stdout",
     "output_type": "stream",
     "text": [
      "[[1. 2. 4.]\n",
      " [1. 2. 4.]\n",
      " [1. 1. 1.]]\n"
     ]
    }
   ],
   "source": [
    "Z = U@ np.diag(D)@VT\n",
    "print(Z)"
   ]
  },
  {
   "cell_type": "code",
   "execution_count": null,
   "id": "265d72f9",
   "metadata": {},
   "outputs": [],
   "source": []
  }
 ],
 "metadata": {
  "kernelspec": {
   "display_name": "Python 3.9 (tensorflow)",
   "language": "python",
   "name": "tensorflow"
  },
  "language_info": {
   "codemirror_mode": {
    "name": "ipython",
    "version": 3
   },
   "file_extension": ".py",
   "mimetype": "text/x-python",
   "name": "python",
   "nbconvert_exporter": "python",
   "pygments_lexer": "ipython3",
   "version": "3.9.7"
  }
 },
 "nbformat": 4,
 "nbformat_minor": 5
}
